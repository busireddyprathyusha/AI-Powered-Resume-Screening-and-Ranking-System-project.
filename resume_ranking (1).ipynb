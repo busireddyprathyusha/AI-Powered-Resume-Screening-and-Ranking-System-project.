{
 "cells": [
  {
   "cell_type": "code",
   "execution_count": 1,
   "id": "f3b5b73c-b47b-43aa-a7af-b95177c6ad47",
   "metadata": {},
   "outputs": [],
   "source": [
    "import streamlit as st\n",
    "from PyPDF2 import PdfReader\n",
    "import pandas as pd\n",
    "from sklearn.feature_extraction.text import TfidfVectorizer\n",
    "from sklearn.metrics.pairwise import cosine_similarity"
   ]
  },
  {
   "cell_type": "code",
   "execution_count": 3,
   "id": "3919cd02-36c0-43b0-a1dd-c1c8be9af50e",
   "metadata": {},
   "outputs": [],
   "source": [
    "file = r\"C:\\Users\\monal\\Downloads\\myresume (1).pdf\""
   ]
  },
  {
   "cell_type": "code",
   "execution_count": 4,
   "id": "c46c9c18-031d-46d1-b0a2-d5b150b466fa",
   "metadata": {},
   "outputs": [],
   "source": [
    "pdf = PdfReader(file)\n",
    "text = \"\"\n",
    "for page in pdf.pages:\n",
    "    text += page.extract_text()"
   ]
  },
  {
   "cell_type": "code",
   "execution_count": 5,
   "id": "9fc3a9cd-15df-4402-ae80-334ed69319b2",
   "metadata": {},
   "outputs": [
    {
     "name": "stdout",
     "output_type": "stream",
     "text": [
      " /  MONALI VERMA\n",
      "Python Developer | AI & Machine Learning Enthusiast\n",
      "7988146030 monaliverma595@gmail.com linkedin.com/in/MonaliV erma https://github.com/Monali-0830 Haryana , India\n",
      "SUMMARY\n",
      "Python de veloper pursuing a B .Tech in CSE (AI & ML) with hands-on e xperience in data  \n",
      "science and Django de velopment. I have built ML models and de veloped dynamic web  \n",
      "applications thr ough internships. A finalist in multiple national-le vel and MLH  \n",
      "hackathons, I am passionate about building intelligent, scalable solutions thr ough  \n",
      "technology and inno vation.\n",
      "EXPERIENCE\n",
      "Data Science Internship Trainee\n",
      "Hoping Minds\n",
      "06/2024 - 08/2024   Mohali, Punjab\n",
      "https://drive.google.com/file/d/19BbEa6ek0N84VRE-I3yJd48XpY9_83IT/vie w?\n",
      "usp=sharing\n",
      "A company specializing in data science and machine learning solutions.\n",
      "Developed and deplo yed machine learning models  to analyze and pr edict  \n",
      "trends, impr oving model performance thr ough data pr eprocessing and featur e \n",
      "engineering.\n",
      "Utilized Python and cutting-edge ML libr aries  (Pandas, NumPy , Scikit-Learn,  \n",
      "TensorFlo w, Ker as) for efficient data pr ocessing, model tr aining, and  \n",
      "performance optimization.\n",
      "Django Intern\n",
      "Croma Campus\n",
      "09/2024 - 11/2024   Noida, Uttar Pr adesh\n",
      "https://drive.google.com/file/d/1G3GZlFH60D3HrBaXm70ruhhY_5hj-cTf/vie w?\n",
      "usp=sharing\n",
      "A company specializing in Django-based web de velopment and scalable  \n",
      "solutions.\n",
      "Developed Django-based authentication system  enabling secur e user login,  \n",
      "real-time data updates, and seamless session management.\n",
      "Designed and optimized database models  using Django ORM, ensuring  \n",
      "efficient data stor age and r etrie val.\n",
      "Configur ed Django Admin Panel  for efficient data management and  \n",
      "monitoring.\n",
      "AICTE Internship on AI : TechSaksham\n",
      "Edunet Foundation\n",
      "02/2025 - Pr esent   virtual\n",
      "https://drive.google.com/file/d/1Z1W8NCUJpa_s-nhtpJaQy1i8j8V eZ47Q/vie w?\n",
      "usp=sharing\n",
      "Virtual Hub for Softwar e De velopment and Data Science Ex cellence\n",
      "Developed an NLP-driven r esume scr eening system  that automates  \n",
      "candidate e valuation based on job r equir ements.\n",
      "Worked with key NLP libr aries  such as NLTK, SpaCy , and T ransformers  to \n",
      "process and analyze te xtual data efficiently .\n",
      "HACKATHON ACHIEVEMENTS & RECOGNITIONS\n",
      "Break Boundaries: HackMOR – The National-Le vel Hackathon for  \n",
      "Inno vators\n",
      "Secur ed a finalist position at HackMOR (Manav Rachna University), wher e our AI-\n",
      "driven solution r eceived high pr aise fr om AICTE Chairman T .G. Sithar am for its  \n",
      "inno vation and r eal-world impact.\n",
      "MLH HackTU Finalist | International Hackathon Achie vement\n",
      "Secur ed a Top 10 spot among 150 teams  at Thapar Institute, emer ging as the  \n",
      "only finalist fr om Haryana. Honed r apid pr ototyping, pr oblem-solving, and  \n",
      "inno vation skills in a high-pr essur e, competitive envir onment.\n",
      "Prestigious National Online Hackathons\n",
      "Finalist in pr emier online hackathons lik e Verte x Inno vate (VIT V ellor e), PSG  \n",
      "iTech GDSC Hackathon, and HckT onic , achie ving a spot among India ’s top 25  \n",
      "teams .SKILLS\n",
      "Python Django Machine Learning\n",
      "SQL Postgr es Mongodb VS Code\n",
      "Data Structur e Java Script Streamlit\n",
      "CSS Node.js Cloud(A WS)\n",
      "EDUCATION\n",
      "Bachelor of Technology in \n",
      "Computer Science & Engg.\n",
      "(AIML)\n",
      "Jai Parkash Mukand Lal  \n",
      "Inno vative Engg. And T ech.  \n",
      "Institute\n",
      "09/2022 - 07/2026  \n",
      "Raduar, HaryanaCGPA\n",
      "8.5 10\n",
      "PROJECTS\n",
      "DeepFake Video Detection Software\n",
      "10/2024 - 10/2024  \n",
      "https://github.com/Monali-0830/Deepfak e-Detection\n",
      "Advanced softwar e for detecting deepfak e videos.\n",
      "Developed an advanced deepfak e detection softwar e \n",
      "utilizing Vision T ransformer (ViT), combined with a  \n",
      "multimodal appr oach that integr ates both visual and  \n",
      "audio cues for enhanced detection accur acy.\n",
      "Integr ated advanced featur es lik e face r ecognition and  \n",
      "anomaly detection to accur ately identify manipulated  \n",
      "videos.\n",
      "The pr oject r eceived widespr ead r ecognition, including  \n",
      "praise fr om AICTE Chairman T G Sithar am.\n",
      "Library Management System\n",
      "07/2024 - 07/2024  \n",
      "https://github.com/Monali-0830/Libr ary_management\n",
      "A system to manage libr ary oper ations effectively .\n",
      "Developed a Python-based Libr ary Management System  \n",
      "using Django and SQLite for str eamlined book issuance,  \n",
      "returns, and inventory management.\n",
      "Integr ated sear ch, user authentication, and o verdue \n",
      "alerts to enhance usability and libr ary oper ations.\n",
      "INTERESTS\n",
      "Innovation, Hackathons & Tech Excellence\n",
      "Recognized for e xcellence in national hackathons  \n",
      "with inno vative tech solutions.\n",
      "STRENGTHS\n",
      "Fast Learner\n",
      "Rapidly adapt to ne w technologies and fr ame works  \n",
      "for seamless implementation.\n",
      "Strong grasp of data structures and algorithms,\n",
      "optimizing code for efficiency , scalability , and r eal-\n",
      "world pr oblem-solving.\n",
      "www .enhancv .comP o w er ed b y•\n",
      "•\n",
      "•\n",
      "•\n",
      "•\n",
      "•\n",
      "••\n",
      "•\n",
      "•\n",
      "•\n",
      "•E  q q \n",
      "\n",
      "7\n",
      "u&\n",
      "H\n",
      "R\n"
     ]
    }
   ],
   "source": [
    "print(text)"
   ]
  },
  {
   "cell_type": "code",
   "execution_count": 6,
   "id": "adeaac88-5c56-4971-bb3f-59c4bbb60c4a",
   "metadata": {},
   "outputs": [],
   "source": [
    "# Function to extract text from PDF\n",
    "def extract_text_from_pdf(file):\n",
    "    pdf = PdfReader(file)\n",
    "    text = \"\"\n",
    "    for page in pdf.pages:\n",
    "        text += page.extract_text()\n",
    "    return text"
   ]
  },
  {
   "cell_type": "code",
   "execution_count": 9,
   "id": "5346adba-c7be-43e0-8962-c8ea95db7c18",
   "metadata": {},
   "outputs": [],
   "source": [
    "# Function to rank resumes based on job description\n",
    "def rank_resumes(job_description, resumes):\n",
    "    # Combine job description with resumes\n",
    "    documents = [job_description] + resumes\n",
    "    vectorizer = TfidfVectorizer().fit_transform(documents)\n",
    "    vectors =  vectorizer.toarray()\n",
    "\n",
    "    # Calculate cosine similarity\n",
    "    job_description_vector = vectors[0]\n",
    "    resume_vectors = vectors [1:]\n",
    "    cosine_similarities = cosine_similarity ([job_description_vector], resume_vectors).flatten()\n",
    "    \n",
    "    return cosine_similarities"
   ]
  },
  {
   "cell_type": "code",
   "execution_count": 10,
   "id": "fe4f6753-d769-43c4-891a-4874d57ebdf6",
   "metadata": {},
   "outputs": [
    {
     "name": "stderr",
     "output_type": "stream",
     "text": [
      "2025-03-05 00:09:18.793 \n",
      "  \u001b[33m\u001b[1mWarning:\u001b[0m to view this Streamlit app on a browser, run it with the following\n",
      "  command:\n",
      "\n",
      "    streamlit run C:\\Users\\monal\\AppData\\Local\\Programs\\Python\\Python312\\Lib\\site-packages\\ipykernel_launcher.py [ARGUMENTS]\n",
      "2025-03-05 00:09:18.794 Session state does not function when running a script without `streamlit run`\n"
     ]
    }
   ],
   "source": [
    "# Streamlit app\n",
    "st.title(\"AI Resume Screening & Candidate Ranking System\")\n",
    "# Job description input\n",
    "st.header(\"Job Description\")\n",
    "job_description = st.text_area (\"Enter the job description\")"
   ]
  },
  {
   "cell_type": "code",
   "execution_count": null,
   "id": "8b4202d6-4e09-4119-b1fd-9adb991b4ab5",
   "metadata": {},
   "outputs": [],
   "source": [
    "# File uploader\n",
    "st.header(\"Upload Resumes\")\n",
    "uploaded_files = st.file_uploader(\"Upload PDF files\", type=[\"pdf\"], accept_multiple_files=True)"
   ]
  },
  {
   "cell_type": "code",
   "execution_count": null,
   "id": "8e218fd3-19a8-4514-98bb-e5d6672df465",
   "metadata": {},
   "outputs": [],
   "source": [
    "if uploaded_files and job_description:\n",
    "    st.header(\"Ranking Resumes\")\n",
    "    \n",
    "    resumes = []\n",
    "    for file in uploaded_files:\n",
    "        text = extract_text_from_pdf(file)\n",
    "        resumes.append(text)\n",
    "\n",
    "    # Rank resumes\n",
    "    scores = rank_resumes(job_description, resumes)\n",
    "\n",
    "    # Display scores\n",
    "    results = pd.DataFrame({\"Resume\": [file.name for file in uploaded_files], \"Score\": scores })\n",
    "    results = results.sort_values(by=\"Score\", ascending=False)\n",
    "    \n",
    "    st.write(results)"
   ]
  },
  {
   "cell_type": "code",
   "execution_count": null,
   "id": "36f4c751-0615-4257-9dd4-36253f1e31e9",
   "metadata": {},
   "outputs": [],
   "source": []
  }
 ],
 "metadata": {
  "kernelspec": {
   "display_name": "Python 3 (ipykernel)",
   "language": "python",
   "name": "python3"
  },
  "language_info": {
   "codemirror_mode": {
    "name": "ipython",
    "version": 3
   },
   "file_extension": ".py",
   "mimetype": "text/x-python",
   "name": "python",
   "nbconvert_exporter": "python",
   "pygments_lexer": "ipython3",
   "version": "3.12.5"
  }
 },
 "nbformat": 4,
 "nbformat_minor": 5
}
